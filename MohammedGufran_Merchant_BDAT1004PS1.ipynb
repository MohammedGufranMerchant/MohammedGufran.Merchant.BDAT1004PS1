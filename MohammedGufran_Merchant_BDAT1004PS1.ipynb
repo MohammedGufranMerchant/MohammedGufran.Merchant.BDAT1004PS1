{
  "nbformat": 4,
  "nbformat_minor": 0,
  "metadata": {
    "colab": {
      "provenance": [],
      "toc_visible": true,
      "authorship_tag": "ABX9TyPlbfrSxRocEjekZj7/Js7x",
      "include_colab_link": true
    },
    "kernelspec": {
      "name": "python3",
      "display_name": "Python 3"
    },
    "language_info": {
      "name": "python"
    }
  },
  "cells": [
    {
      "cell_type": "markdown",
      "metadata": {
        "id": "view-in-github",
        "colab_type": "text"
      },
      "source": [
        "<a href=\"https://colab.research.google.com/github/MohammedGufranMerchant/MohammedGufran.Merchant.BDAT1004PS1/blob/main/MohammedGufran_Merchant_BDAT1004PS1.ipynb\" target=\"_parent\"><img src=\"https://colab.research.google.com/assets/colab-badge.svg\" alt=\"Open In Colab\"/></a>"
      ]
    },
    {
      "cell_type": "markdown",
      "source": [
        "## Question 6:\n",
        " You can turn a word into pig-Latin using the following two rules (simplified): \n",
        " - If the word starts with a consonant, move that letter to the end and append 'ay'. For example, 'happy' becomes 'appyhay' and 'pencil' becomes 'encilpay'. \n",
        " - If the word starts with a vowel, simply append 'way' to the end of the word. For example, 'enter' becomes 'enterway' and 'other' becomes 'otherway' . For our purposes, there are 5 vowels: a, e, i, o, u (so we count y as a consonant). \n",
        " - Write a function pig() that takes a word (i.e., a string) as input and returns its pig- Latin form. Your function should still work if the input word contains upper case characters. Your output should always be lower case however.  \n",
        " \n",
        " >>>  pig('happy') 'appyhay' \n",
        " \n",
        " >>>  pig('Enter') 'enterway' "
      ],
      "metadata": {
        "id": "sNV-je4TC5gw"
      }
    },
    {
      "cell_type": "code",
      "execution_count": 1,
      "metadata": {
        "id": "x102HY850FGZ"
      },
      "outputs": [],
      "source": [
        "def pig(word):\n",
        "    # Convert the word to lowercase\n",
        "    word = word.lower()\n",
        "\n",
        "    # Define the vowels\n",
        "    vowels = \"aeiou\"\n",
        "\n",
        "    # Check if the word starts with a vowel\n",
        "    if word[0] in vowels:\n",
        "        # Word starts with a vowel, append \"way\"\n",
        "        return word + \"way\"\n",
        "    else:\n",
        "        # Word starts with a consonant, move the first letter to the end and append \"ay\"\n",
        "        return word[1:] + word[0] + \"ay\""
      ]
    },
    {
      "cell_type": "code",
      "source": [
        "word = \"happy\"\n",
        "pig_latin_word = pig(word)\n",
        "print(pig_latin_word)"
      ],
      "metadata": {
        "colab": {
          "base_uri": "https://localhost:8080/"
        },
        "id": "VQZMXLEU1t3b",
        "outputId": "af93e438-0696-4490-ade0-87f7eae12090"
      },
      "execution_count": 2,
      "outputs": [
        {
          "output_type": "stream",
          "name": "stdout",
          "text": [
            "appyhay\n"
          ]
        }
      ]
    },
    {
      "cell_type": "code",
      "source": [
        "word = \"enter\"\n",
        "pig_latin_word = pig(word)\n",
        "print(pig_latin_word)"
      ],
      "metadata": {
        "colab": {
          "base_uri": "https://localhost:8080/"
        },
        "id": "ZBl9YKBC2MhD",
        "outputId": "88d45535-a053-4212-b20f-539ef296228c"
      },
      "execution_count": 3,
      "outputs": [
        {
          "output_type": "stream",
          "name": "stdout",
          "text": [
            "enterway\n"
          ]
        }
      ]
    },
    {
      "cell_type": "markdown",
      "source": [
        "## Question 7:\n",
        "\n",
        "File bloodtype1.txt records blood-types of patients (A, B, AB, O or OO) at a clinic. Write a function bldcount() that reads the file with name name and reports (i.e., prints) how many patients there are in each bloodtype.  \n",
        ">>>  bldcount('bloodtype.txt') \n",
        "\n",
        "- There  are  10  patients  of  blood  type  A. \n",
        "- There  is  one  patient  of  blood  type  B. \n",
        "- There  are  10  patients  of  blood  type  AB. \n",
        "- There  are  12  patients  of  blood  type  O. \n",
        "- There  are  no  patients  of  blood  type  OO. "
      ],
      "metadata": {
        "id": "3b99jBMYEB6i"
      }
    },
    {
      "cell_type": "code",
      "source": [
        "def bldcount(name):\n",
        "    blood_types = ['A', 'B', 'AB', 'O', 'OO']\n",
        "    count = [0] * len(blood_types)  # Initialize count for each blood type\n",
        "\n",
        "    try:\n",
        "        with open(name, 'r') as file:\n",
        "            for line in file:\n",
        "                blood_type = line.strip()\n",
        "                if blood_type in blood_types:\n",
        "                    index = blood_types.index(blood_type)\n",
        "                    count[index] += 1\n",
        "    except FileNotFoundError:\n",
        "        print(f\"File '{name}' not found.\")\n",
        "        return\n",
        "\n",
        "    for i, blood_type in enumerate(blood_types):\n",
        "        if count[i] == 1:\n",
        "            print(f\"There is one patient of blood type {blood_type}.\")\n",
        "        else:\n",
        "            print(f\"There are {count[i]} patients of blood type {blood_type}.\")"
      ],
      "metadata": {
        "id": "6fGh-DVA5oyv"
      },
      "execution_count": 13,
      "outputs": []
    },
    {
      "cell_type": "code",
      "source": [
        "bldcount('/content/bloodtype1.txt')"
      ],
      "metadata": {
        "colab": {
          "base_uri": "https://localhost:8080/"
        },
        "id": "wXzIwjit6vVk",
        "outputId": "6d2e43e6-8166-4673-9eed-3924bfc06a6d"
      },
      "execution_count": 14,
      "outputs": [
        {
          "output_type": "stream",
          "name": "stdout",
          "text": [
            "There are 0 patients of blood type A.\n",
            "There are 0 patients of blood type B.\n",
            "There are 0 patients of blood type AB.\n",
            "There are 0 patients of blood type O.\n",
            "There are 0 patients of blood type OO.\n"
          ]
        }
      ]
    },
    {
      "cell_type": "code",
      "source": [
        "def bldcount(name):\n",
        "    blood_types = ['A', 'B', 'AB', 'O', 'OO']\n",
        "    count = [0] * len(blood_types)  # Initialize count for each blood type\n",
        "\n",
        "    try:\n",
        "        with open(name, 'r') as file:\n",
        "            data = file.read().split()  # Read all contents and split by spaces\n",
        "\n",
        "            for blood_type in data:\n",
        "                if blood_type in blood_types:\n",
        "                    index = blood_types.index(blood_type)\n",
        "                    count[index] += 1\n",
        "    except FileNotFoundError:\n",
        "        print(f\"File '{name}' not found.\")\n",
        "        return\n",
        "\n",
        "    for i, blood_type in enumerate(blood_types):\n",
        "        if count[i] == 1:\n",
        "            print(f\"There is one patient of blood type {blood_type}.\")\n",
        "        else:\n",
        "            print(f\"There are {count[i]} patients of blood type {blood_type}.\")\n",
        "\n",
        "bldcount('/content/bloodtype1.txt')\n"
      ],
      "metadata": {
        "colab": {
          "base_uri": "https://localhost:8080/"
        },
        "id": "cn-kzLV97cub",
        "outputId": "0552a927-c496-4ef8-cdc2-97d2ddc03f41"
      },
      "execution_count": 15,
      "outputs": [
        {
          "output_type": "stream",
          "name": "stdout",
          "text": [
            "There are 15 patients of blood type A.\n",
            "There is one patient of blood type B.\n",
            "There are 13 patients of blood type AB.\n",
            "There are 15 patients of blood type O.\n",
            "There are 0 patients of blood type OO.\n"
          ]
        }
      ]
    },
    {
      "cell_type": "markdown",
      "source": [
        "## Question 8:\n",
        "\n",
        "Write a function curconv() that takes as input:  \n",
        "1. a currency represented using a string (e.g., 'JPY' for the Japanese Yen or 'EUR' for the Euro) \n",
        "2. an amount  and then converts and returns the amount in US dollars.   \n",
        "\n",
        ">>>  curconv('EUR',  100)  \n",
        "122.96544  \n",
        "\n",
        ">>>  curconv('JPY',  100)  \n",
        "1.241401  "
      ],
      "metadata": {
        "id": "Cm88b0LUEhb9"
      }
    },
    {
      "cell_type": "code",
      "source": [
        "def curconv(currency, amount):\n",
        "    rates = {}\n",
        "\n",
        "    try:\n",
        "        with open('currencies.txt', 'r') as file:\n",
        "            for line in file:\n",
        "                code, rate, _ = line.split('\\t')\n",
        "                rates[code] = float(rate)\n",
        "    except FileNotFoundError:\n",
        "        print(\"File 'currencies.txt' not found.\")\n",
        "        return\n",
        "\n",
        "    if currency in rates:\n",
        "        usd_amount = amount * rates[currency]\n",
        "        return usd_amount\n",
        "    else:\n",
        "        print(f\"Currency '{currency}' not found in the conversion rates.\")\n",
        "        return None\n",
        "\n",
        "# Examples of usage\n",
        "print(curconv('EUR', 100))  # Output: 122.96544\n",
        "print(curconv('JPY', 100))  # Output: 1.241401\n"
      ],
      "metadata": {
        "colab": {
          "base_uri": "https://localhost:8080/"
        },
        "id": "FNoX70Xi9O-f",
        "outputId": "8fbe3e56-e53b-4345-d993-0a5c587610bb"
      },
      "execution_count": 18,
      "outputs": [
        {
          "output_type": "stream",
          "name": "stdout",
          "text": [
            "122.96544\n",
            "1.241401\n"
          ]
        }
      ]
    },
    {
      "cell_type": "markdown",
      "source": [
        "## Question 9:\n",
        "\n",
        "- Each of the following will cause an exception (an error). Identify what type of exception each will cause.\n",
        "  - Trying to add incompatible variables, as in adding 6 + ‘a’ \n",
        "  - Referring to the 12th item of a list that has only 10 items \n",
        "  - Using a value that is out of range for a function’s input, such as calling math.sqrt(-1.0) \n",
        "  - Using an undeclared variable, such as print(x) when x has not been defined \n",
        "  - Trying to open a file that does not exist, such as mistyping the file name or looking in the wrong directory. "
      ],
      "metadata": {
        "id": "95wKB40tGqKy"
      }
    },
    {
      "cell_type": "markdown",
      "source": [
        "### 1. Trying to add incompatible variables, as in adding 6 + 'a':\n",
        " - ***Type of Exception: TypeError***. This operation attempts to add an integer and a string, which is not allowed.\n",
        "\n",
        "### 2. Referring to the 12th item of a list that has only 10 items:\n",
        "\n",
        " - ***Type of Exception: IndexError***. The index provided is out of range for the given list, resulting in an index error.\n",
        "\n",
        "### 3. Using a value that is out of range for a function's input, such as calling math.sqrt(-1.0):\n",
        "\n",
        " - ***Type of Exception: ValueError***. The math.sqrt() function does not accept negative values as input for square root calculation, resulting in a value error.\n",
        "\n",
        "### 4. Using an undeclared variable, such as print(x) when x has not been defined:\n",
        "\n",
        " - ***Type of Exception: NameError***. The variable 'x' has not been defined or declared before using it, resulting in a name error.\n",
        "\n",
        "### 5. Trying to open a file that does not exist, such as mistyping the file name or looking in the wrong directory:\n",
        "\n",
        " - ***Type of Exception: FileNotFoundError***. The file being referred to does not exist in the specified directory, resulting in a file not found error."
      ],
      "metadata": {
        "id": "4vHpw71cHQdJ"
      }
    },
    {
      "cell_type": "markdown",
      "source": [
        "## Question 10:\n",
        "\n",
        " - Encryption is the process of hiding the meaning of a text by substituting letters in the message with other letters, according to some system. If the process is successful, no one but the intended recipient can understand the encrypted message. Cryptanalysis refers to attempts to undo the encryption, even if some details of the encryption are unknown (for example, if an encrypted message has been intercepted). The first step of cryptanalysis is often to build up a table of letter frequencies in the encrypted text. Assume that the string letters is already defined as 'abcdefghijklmnopqrstuvwxyz'. Write a function called frequencies() that takes a string as its only parameter, and returns a list of integers, showing the number of times each character appears in the text. Your function may ignore any characters that are not in letters. "
      ],
      "metadata": {
        "id": "johK8Jq2LZ0c"
      }
    },
    {
      "cell_type": "code",
      "source": [
        "def frequencies(text):\n",
        "    letters = 'abcdefghijklmnopqrstuvwxyz'\n",
        "    frequency_list = []\n",
        "    for letter in letters:\n",
        "        frequency = text.lower().count(letter)\n",
        "        frequency_list.append(frequency)\n",
        "    return frequency_list"
      ],
      "metadata": {
        "id": "-B_n8WPsCkyh"
      },
      "execution_count": 19,
      "outputs": []
    },
    {
      "cell_type": "code",
      "source": [
        "print(frequencies('The quick red fox got bored and went home.'))"
      ],
      "metadata": {
        "colab": {
          "base_uri": "https://localhost:8080/"
        },
        "id": "EGISPRlZJ7B-",
        "outputId": "5c50dff9-5344-4c4f-936f-1b772d846783"
      },
      "execution_count": 20,
      "outputs": [
        {
          "output_type": "stream",
          "name": "stdout",
          "text": [
            "[1, 1, 1, 3, 5, 1, 1, 2, 1, 0, 1, 0, 1, 2, 4, 0, 1, 2, 0, 3, 1, 0, 1, 1, 0, 0]\n"
          ]
        }
      ]
    },
    {
      "cell_type": "code",
      "source": [
        "print(frequencies('apple'))"
      ],
      "metadata": {
        "colab": {
          "base_uri": "https://localhost:8080/"
        },
        "id": "B_q-6-xXJ-5F",
        "outputId": "17030ddd-1b61-4ff6-e40f-de612d43a9ad"
      },
      "execution_count": 21,
      "outputs": [
        {
          "output_type": "stream",
          "name": "stdout",
          "text": [
            "[1, 0, 0, 0, 1, 0, 0, 0, 0, 0, 0, 1, 0, 0, 0, 2, 0, 0, 0, 0, 0, 0, 0, 0, 0, 0]\n"
          ]
        }
      ]
    },
    {
      "cell_type": "code",
      "source": [],
      "metadata": {
        "id": "IAm7t2lfKCW9"
      },
      "execution_count": null,
      "outputs": []
    }
  ]
}